{
 "cells": [
  {
   "cell_type": "markdown",
   "metadata": {},
   "source": [
    "# 01. Describing and visualizing data"
   ]
  },
  {
   "cell_type": "markdown",
   "metadata": {},
   "source": [
    "## Getting Started\n",
    "\n",
    "- Download MapPLUTO data from [NYC DCP](https://s-media.nyc.gov/agencies/dcp/assets/files/zip/data-tools/bytes/nyc_mappluto_24v1_1_shp.zip). Place the unzipped contents in the `Data` directory at the root of this repository.\n",
    "- Unzip the file and place contents in the `Data` directory at the root of this repo\n",
    "- Make sure you have installed all requisite libraries by running `pip install -r requirements.txt` **_with your virtual environment activated_**. For guidance on setting up or activating your virtual environment, refer to the notes in [00_Getting_started](00_Getting_started.md).\n",
    "\n",
    "## Goals\n",
    "- Download data from NYC DCP's open data portal\n",
    "- Load data from file\n",
    "- Explore spatial and non-spatial elements of the dataset\n",
    "- Visualize spatial and non-spatial elements of the dataset \n"
   ]
  },
  {
   "cell_type": "markdown",
   "metadata": {},
   "source": [
    "The following libraries will allow us to import and explore our data. Note that in some cases we import the entire library and even use a short-hand reference (e.g. `import geopandas as gpd`), while in other cases we only import submodules (e.g. `from lonboard._layer import PolygonLayer`). This is largely a matter of preference, but importing submodules can help reduce memory usage and improve performance, especially when working with large datasets or in an app you've developed."
   ]
  },
  {
   "cell_type": "code",
   "execution_count": 1,
   "metadata": {},
   "outputs": [],
   "source": [
    "# the bare minimum\n",
    "import matplotlib.pyplot as plt  # for plotting\n",
    "import geopandas as gpd  # for geospatial data handling\n",
    "from matplotlib.lines import Line2D\n",
    "\n",
    "# more advanced\n",
    "from lonboard._map import Map\n",
    "from lonboard._layer import PolygonLayer  # for mapping in 3D\n",
    "from lonboard.colormap import (\n",
    "    apply_categorical_cmap,\n",
    "    apply_continuous_cmap,\n",
    ")  # for assigning colors\n",
    "from palettable.colorbrewer.sequential import PuRd_9  # for color palettes\n",
    "from matplotlib.colors import LogNorm  # for logarithmic normalization\n",
    "import pygwalker as pyg  # for creating interactive data visualizations"
   ]
  },
  {
   "cell_type": "markdown",
   "metadata": {},
   "source": [
    "# Load PLUTO data\n"
   ]
  },
  {
   "cell_type": "markdown",
   "metadata": {},
   "source": [
    "MapPLUTO is New York City's tax lot database, which contains detailed information about the city's land parcels, including their size, zoning, and ownership. The dataset is updated quarterly and is a foundational resource for understanding the city's built environment.\n",
    "\n",
    "Here, we create a variable (`pluto`) and use geopandas to read the file into memory. We use a \"relative\" path to reference the file.\n"
   ]
  },
  {
   "cell_type": "code",
   "execution_count": 3,
   "metadata": {},
   "outputs": [
    {
     "ename": "DataSourceError",
     "evalue": "../Data/nyc_mappluto_24v1_1_shp/MapPLUTO.shp: No such file or directory",
     "output_type": "error",
     "traceback": [
      "\u001b[31m---------------------------------------------------------------------------\u001b[39m",
      "\u001b[31mDataSourceError\u001b[39m                           Traceback (most recent call last)",
      "\u001b[36mCell\u001b[39m\u001b[36m \u001b[39m\u001b[32mIn[3]\u001b[39m\u001b[32m, line 1\u001b[39m\n\u001b[32m----> \u001b[39m\u001b[32m1\u001b[39m pluto = \u001b[43mgpd\u001b[49m\u001b[43m.\u001b[49m\u001b[43mread_file\u001b[49m\u001b[43m(\u001b[49m\u001b[33;43m\"\u001b[39;49m\u001b[33;43m../Data/nyc_mappluto_24v1_1_shp/MapPLUTO.shp\u001b[39;49m\u001b[33;43m\"\u001b[39;49m\u001b[43m)\u001b[49m\n",
      "\u001b[36mFile \u001b[39m\u001b[32m~/conda/envs/cdp_mapping_system/lib/python3.12/site-packages/geopandas/io/file.py:317\u001b[39m, in \u001b[36m_read_file\u001b[39m\u001b[34m(filename, bbox, mask, columns, rows, engine, **kwargs)\u001b[39m\n\u001b[32m    314\u001b[39m             filename = response.read()\n\u001b[32m    316\u001b[39m \u001b[38;5;28;01mif\u001b[39;00m engine == \u001b[33m\"\u001b[39m\u001b[33mpyogrio\u001b[39m\u001b[33m\"\u001b[39m:\n\u001b[32m--> \u001b[39m\u001b[32m317\u001b[39m     \u001b[38;5;28;01mreturn\u001b[39;00m \u001b[43m_read_file_pyogrio\u001b[49m\u001b[43m(\u001b[49m\n\u001b[32m    318\u001b[39m \u001b[43m        \u001b[49m\u001b[43mfilename\u001b[49m\u001b[43m,\u001b[49m\u001b[43m \u001b[49m\u001b[43mbbox\u001b[49m\u001b[43m=\u001b[49m\u001b[43mbbox\u001b[49m\u001b[43m,\u001b[49m\u001b[43m \u001b[49m\u001b[43mmask\u001b[49m\u001b[43m=\u001b[49m\u001b[43mmask\u001b[49m\u001b[43m,\u001b[49m\u001b[43m \u001b[49m\u001b[43mcolumns\u001b[49m\u001b[43m=\u001b[49m\u001b[43mcolumns\u001b[49m\u001b[43m,\u001b[49m\u001b[43m \u001b[49m\u001b[43mrows\u001b[49m\u001b[43m=\u001b[49m\u001b[43mrows\u001b[49m\u001b[43m,\u001b[49m\u001b[43m \u001b[49m\u001b[43m*\u001b[49m\u001b[43m*\u001b[49m\u001b[43mkwargs\u001b[49m\n\u001b[32m    319\u001b[39m \u001b[43m    \u001b[49m\u001b[43m)\u001b[49m\n\u001b[32m    321\u001b[39m \u001b[38;5;28;01melif\u001b[39;00m engine == \u001b[33m\"\u001b[39m\u001b[33mfiona\u001b[39m\u001b[33m\"\u001b[39m:\n\u001b[32m    322\u001b[39m     \u001b[38;5;28;01mif\u001b[39;00m pd.api.types.is_file_like(filename):\n",
      "\u001b[36mFile \u001b[39m\u001b[32m~/conda/envs/cdp_mapping_system/lib/python3.12/site-packages/geopandas/io/file.py:577\u001b[39m, in \u001b[36m_read_file_pyogrio\u001b[39m\u001b[34m(path_or_bytes, bbox, mask, rows, **kwargs)\u001b[39m\n\u001b[32m    568\u001b[39m     warnings.warn(\n\u001b[32m    569\u001b[39m         \u001b[33m\"\u001b[39m\u001b[33mThe \u001b[39m\u001b[33m'\u001b[39m\u001b[33minclude_fields\u001b[39m\u001b[33m'\u001b[39m\u001b[33m and \u001b[39m\u001b[33m'\u001b[39m\u001b[33mignore_fields\u001b[39m\u001b[33m'\u001b[39m\u001b[33m keywords are deprecated, and \u001b[39m\u001b[33m\"\u001b[39m\n\u001b[32m    570\u001b[39m         \u001b[33m\"\u001b[39m\u001b[33mwill be removed in a future release. You can use the \u001b[39m\u001b[33m'\u001b[39m\u001b[33mcolumns\u001b[39m\u001b[33m'\u001b[39m\u001b[33m keyword \u001b[39m\u001b[33m\"\u001b[39m\n\u001b[32m   (...)\u001b[39m\u001b[32m    573\u001b[39m         stacklevel=\u001b[32m3\u001b[39m,\n\u001b[32m    574\u001b[39m     )\n\u001b[32m    575\u001b[39m     kwargs[\u001b[33m\"\u001b[39m\u001b[33mcolumns\u001b[39m\u001b[33m\"\u001b[39m] = kwargs.pop(\u001b[33m\"\u001b[39m\u001b[33minclude_fields\u001b[39m\u001b[33m\"\u001b[39m)\n\u001b[32m--> \u001b[39m\u001b[32m577\u001b[39m \u001b[38;5;28;01mreturn\u001b[39;00m \u001b[43mpyogrio\u001b[49m\u001b[43m.\u001b[49m\u001b[43mread_dataframe\u001b[49m\u001b[43m(\u001b[49m\u001b[43mpath_or_bytes\u001b[49m\u001b[43m,\u001b[49m\u001b[43m \u001b[49m\u001b[43mbbox\u001b[49m\u001b[43m=\u001b[49m\u001b[43mbbox\u001b[49m\u001b[43m,\u001b[49m\u001b[43m \u001b[49m\u001b[43m*\u001b[49m\u001b[43m*\u001b[49m\u001b[43mkwargs\u001b[49m\u001b[43m)\u001b[49m\n",
      "\u001b[36mFile \u001b[39m\u001b[32m~/conda/envs/cdp_mapping_system/lib/python3.12/site-packages/pyogrio/geopandas.py:275\u001b[39m, in \u001b[36mread_dataframe\u001b[39m\u001b[34m(path_or_buffer, layer, encoding, columns, read_geometry, force_2d, skip_features, max_features, where, bbox, mask, fids, sql, sql_dialect, fid_as_index, use_arrow, on_invalid, arrow_to_pandas_kwargs, **kwargs)\u001b[39m\n\u001b[32m    270\u001b[39m \u001b[38;5;28;01mif\u001b[39;00m \u001b[38;5;129;01mnot\u001b[39;00m use_arrow:\n\u001b[32m    271\u001b[39m     \u001b[38;5;66;03m# For arrow, datetimes are read as is.\u001b[39;00m\n\u001b[32m    272\u001b[39m     \u001b[38;5;66;03m# For numpy IO, datetimes are read as string values to preserve timezone info\u001b[39;00m\n\u001b[32m    273\u001b[39m     \u001b[38;5;66;03m# as numpy does not directly support timezones.\u001b[39;00m\n\u001b[32m    274\u001b[39m     kwargs[\u001b[33m\"\u001b[39m\u001b[33mdatetime_as_string\u001b[39m\u001b[33m\"\u001b[39m] = \u001b[38;5;28;01mTrue\u001b[39;00m\n\u001b[32m--> \u001b[39m\u001b[32m275\u001b[39m result = \u001b[43mread_func\u001b[49m\u001b[43m(\u001b[49m\n\u001b[32m    276\u001b[39m \u001b[43m    \u001b[49m\u001b[43mpath_or_buffer\u001b[49m\u001b[43m,\u001b[49m\n\u001b[32m    277\u001b[39m \u001b[43m    \u001b[49m\u001b[43mlayer\u001b[49m\u001b[43m=\u001b[49m\u001b[43mlayer\u001b[49m\u001b[43m,\u001b[49m\n\u001b[32m    278\u001b[39m \u001b[43m    \u001b[49m\u001b[43mencoding\u001b[49m\u001b[43m=\u001b[49m\u001b[43mencoding\u001b[49m\u001b[43m,\u001b[49m\n\u001b[32m    279\u001b[39m \u001b[43m    \u001b[49m\u001b[43mcolumns\u001b[49m\u001b[43m=\u001b[49m\u001b[43mcolumns\u001b[49m\u001b[43m,\u001b[49m\n\u001b[32m    280\u001b[39m \u001b[43m    \u001b[49m\u001b[43mread_geometry\u001b[49m\u001b[43m=\u001b[49m\u001b[43mread_geometry\u001b[49m\u001b[43m,\u001b[49m\n\u001b[32m    281\u001b[39m \u001b[43m    \u001b[49m\u001b[43mforce_2d\u001b[49m\u001b[43m=\u001b[49m\u001b[43mgdal_force_2d\u001b[49m\u001b[43m,\u001b[49m\n\u001b[32m    282\u001b[39m \u001b[43m    \u001b[49m\u001b[43mskip_features\u001b[49m\u001b[43m=\u001b[49m\u001b[43mskip_features\u001b[49m\u001b[43m,\u001b[49m\n\u001b[32m    283\u001b[39m \u001b[43m    \u001b[49m\u001b[43mmax_features\u001b[49m\u001b[43m=\u001b[49m\u001b[43mmax_features\u001b[49m\u001b[43m,\u001b[49m\n\u001b[32m    284\u001b[39m \u001b[43m    \u001b[49m\u001b[43mwhere\u001b[49m\u001b[43m=\u001b[49m\u001b[43mwhere\u001b[49m\u001b[43m,\u001b[49m\n\u001b[32m    285\u001b[39m \u001b[43m    \u001b[49m\u001b[43mbbox\u001b[49m\u001b[43m=\u001b[49m\u001b[43mbbox\u001b[49m\u001b[43m,\u001b[49m\n\u001b[32m    286\u001b[39m \u001b[43m    \u001b[49m\u001b[43mmask\u001b[49m\u001b[43m=\u001b[49m\u001b[43mmask\u001b[49m\u001b[43m,\u001b[49m\n\u001b[32m    287\u001b[39m \u001b[43m    \u001b[49m\u001b[43mfids\u001b[49m\u001b[43m=\u001b[49m\u001b[43mfids\u001b[49m\u001b[43m,\u001b[49m\n\u001b[32m    288\u001b[39m \u001b[43m    \u001b[49m\u001b[43msql\u001b[49m\u001b[43m=\u001b[49m\u001b[43msql\u001b[49m\u001b[43m,\u001b[49m\n\u001b[32m    289\u001b[39m \u001b[43m    \u001b[49m\u001b[43msql_dialect\u001b[49m\u001b[43m=\u001b[49m\u001b[43msql_dialect\u001b[49m\u001b[43m,\u001b[49m\n\u001b[32m    290\u001b[39m \u001b[43m    \u001b[49m\u001b[43mreturn_fids\u001b[49m\u001b[43m=\u001b[49m\u001b[43mfid_as_index\u001b[49m\u001b[43m,\u001b[49m\n\u001b[32m    291\u001b[39m \u001b[43m    \u001b[49m\u001b[43m*\u001b[49m\u001b[43m*\u001b[49m\u001b[43mkwargs\u001b[49m\u001b[43m,\u001b[49m\n\u001b[32m    292\u001b[39m \u001b[43m\u001b[49m\u001b[43m)\u001b[49m\n\u001b[32m    294\u001b[39m \u001b[38;5;28;01mif\u001b[39;00m use_arrow:\n\u001b[32m    295\u001b[39m     \u001b[38;5;28;01mimport\u001b[39;00m\u001b[38;5;250m \u001b[39m\u001b[34;01mpyarrow\u001b[39;00m\u001b[38;5;250m \u001b[39m\u001b[38;5;28;01mas\u001b[39;00m\u001b[38;5;250m \u001b[39m\u001b[34;01mpa\u001b[39;00m\n",
      "\u001b[36mFile \u001b[39m\u001b[32m~/conda/envs/cdp_mapping_system/lib/python3.12/site-packages/pyogrio/raw.py:198\u001b[39m, in \u001b[36mread\u001b[39m\u001b[34m(path_or_buffer, layer, encoding, columns, read_geometry, force_2d, skip_features, max_features, where, bbox, mask, fids, sql, sql_dialect, return_fids, datetime_as_string, **kwargs)\u001b[39m\n\u001b[32m     59\u001b[39m \u001b[38;5;250m\u001b[39m\u001b[33;03m\"\"\"Read OGR data source into numpy arrays.\u001b[39;00m\n\u001b[32m     60\u001b[39m \n\u001b[32m     61\u001b[39m \u001b[33;03mIMPORTANT: non-linear geometry types (e.g., MultiSurface) are converted\u001b[39;00m\n\u001b[32m   (...)\u001b[39m\u001b[32m    194\u001b[39m \n\u001b[32m    195\u001b[39m \u001b[33;03m\"\"\"\u001b[39;00m\n\u001b[32m    196\u001b[39m dataset_kwargs = _preprocess_options_key_value(kwargs) \u001b[38;5;28;01mif\u001b[39;00m kwargs \u001b[38;5;28;01melse\u001b[39;00m {}\n\u001b[32m--> \u001b[39m\u001b[32m198\u001b[39m \u001b[38;5;28;01mreturn\u001b[39;00m \u001b[43mogr_read\u001b[49m\u001b[43m(\u001b[49m\n\u001b[32m    199\u001b[39m \u001b[43m    \u001b[49m\u001b[43mget_vsi_path_or_buffer\u001b[49m\u001b[43m(\u001b[49m\u001b[43mpath_or_buffer\u001b[49m\u001b[43m)\u001b[49m\u001b[43m,\u001b[49m\n\u001b[32m    200\u001b[39m \u001b[43m    \u001b[49m\u001b[43mlayer\u001b[49m\u001b[43m=\u001b[49m\u001b[43mlayer\u001b[49m\u001b[43m,\u001b[49m\n\u001b[32m    201\u001b[39m \u001b[43m    \u001b[49m\u001b[43mencoding\u001b[49m\u001b[43m=\u001b[49m\u001b[43mencoding\u001b[49m\u001b[43m,\u001b[49m\n\u001b[32m    202\u001b[39m \u001b[43m    \u001b[49m\u001b[43mcolumns\u001b[49m\u001b[43m=\u001b[49m\u001b[43mcolumns\u001b[49m\u001b[43m,\u001b[49m\n\u001b[32m    203\u001b[39m \u001b[43m    \u001b[49m\u001b[43mread_geometry\u001b[49m\u001b[43m=\u001b[49m\u001b[43mread_geometry\u001b[49m\u001b[43m,\u001b[49m\n\u001b[32m    204\u001b[39m \u001b[43m    \u001b[49m\u001b[43mforce_2d\u001b[49m\u001b[43m=\u001b[49m\u001b[43mforce_2d\u001b[49m\u001b[43m,\u001b[49m\n\u001b[32m    205\u001b[39m \u001b[43m    \u001b[49m\u001b[43mskip_features\u001b[49m\u001b[43m=\u001b[49m\u001b[43mskip_features\u001b[49m\u001b[43m,\u001b[49m\n\u001b[32m    206\u001b[39m \u001b[43m    \u001b[49m\u001b[43mmax_features\u001b[49m\u001b[43m=\u001b[49m\u001b[43mmax_features\u001b[49m\u001b[43m \u001b[49m\u001b[38;5;129;43;01mor\u001b[39;49;00m\u001b[43m \u001b[49m\u001b[32;43m0\u001b[39;49m\u001b[43m,\u001b[49m\n\u001b[32m    207\u001b[39m \u001b[43m    \u001b[49m\u001b[43mwhere\u001b[49m\u001b[43m=\u001b[49m\u001b[43mwhere\u001b[49m\u001b[43m,\u001b[49m\n\u001b[32m    208\u001b[39m \u001b[43m    \u001b[49m\u001b[43mbbox\u001b[49m\u001b[43m=\u001b[49m\u001b[43mbbox\u001b[49m\u001b[43m,\u001b[49m\n\u001b[32m    209\u001b[39m \u001b[43m    \u001b[49m\u001b[43mmask\u001b[49m\u001b[43m=\u001b[49m\u001b[43m_mask_to_wkb\u001b[49m\u001b[43m(\u001b[49m\u001b[43mmask\u001b[49m\u001b[43m)\u001b[49m\u001b[43m,\u001b[49m\n\u001b[32m    210\u001b[39m \u001b[43m    \u001b[49m\u001b[43mfids\u001b[49m\u001b[43m=\u001b[49m\u001b[43mfids\u001b[49m\u001b[43m,\u001b[49m\n\u001b[32m    211\u001b[39m \u001b[43m    \u001b[49m\u001b[43msql\u001b[49m\u001b[43m=\u001b[49m\u001b[43msql\u001b[49m\u001b[43m,\u001b[49m\n\u001b[32m    212\u001b[39m \u001b[43m    \u001b[49m\u001b[43msql_dialect\u001b[49m\u001b[43m=\u001b[49m\u001b[43msql_dialect\u001b[49m\u001b[43m,\u001b[49m\n\u001b[32m    213\u001b[39m \u001b[43m    \u001b[49m\u001b[43mreturn_fids\u001b[49m\u001b[43m=\u001b[49m\u001b[43mreturn_fids\u001b[49m\u001b[43m,\u001b[49m\n\u001b[32m    214\u001b[39m \u001b[43m    \u001b[49m\u001b[43mdataset_kwargs\u001b[49m\u001b[43m=\u001b[49m\u001b[43mdataset_kwargs\u001b[49m\u001b[43m,\u001b[49m\n\u001b[32m    215\u001b[39m \u001b[43m    \u001b[49m\u001b[43mdatetime_as_string\u001b[49m\u001b[43m=\u001b[49m\u001b[43mdatetime_as_string\u001b[49m\u001b[43m,\u001b[49m\n\u001b[32m    216\u001b[39m \u001b[43m\u001b[49m\u001b[43m)\u001b[49m\n",
      "\u001b[36mFile \u001b[39m\u001b[32mpyogrio/_io.pyx:1293\u001b[39m, in \u001b[36mpyogrio._io.ogr_read\u001b[39m\u001b[34m()\u001b[39m\n",
      "\u001b[36mFile \u001b[39m\u001b[32mpyogrio/_io.pyx:232\u001b[39m, in \u001b[36mpyogrio._io.ogr_open\u001b[39m\u001b[34m()\u001b[39m\n",
      "\u001b[31mDataSourceError\u001b[39m: ../Data/nyc_mappluto_24v1_1_shp/MapPLUTO.shp: No such file or directory"
     ]
    }
   ],
   "source": [
    "pluto = gpd.read_file(\"../Data/nyc_mappluto_24v1_1_shp/MapPLUTO.shp\")"
   ]
  },
  {
   "cell_type": "markdown",
   "metadata": {},
   "source": [
    "# Basic exploration\n"
   ]
  },
  {
   "cell_type": "markdown",
   "metadata": {},
   "source": [
    "A great way to familiarize yourself with a dataset is to look\n",
    "at the first few rows. Scroll to the right- you'll see an\n",
    "ellipsis (`...`) indicating that there are more columns (there\n",
    "are 95!). The rightmost column is the geometry, which contains the\n",
    "spatial information for each row. That's what we'll use to map\n",
    "later, but all of the other information contains data that can help\n",
    "us gain a deeper understanding of the dataset."
   ]
  },
  {
   "cell_type": "code",
   "execution_count": null,
   "metadata": {},
   "outputs": [],
   "source": [
    "pluto.head()"
   ]
  },
  {
   "cell_type": "markdown",
   "metadata": {},
   "source": [
    "First, let's get a sense of what columns are available in the dataset."
   ]
  },
  {
   "cell_type": "code",
   "execution_count": null,
   "metadata": {},
   "outputs": [],
   "source": [
    "pluto.columns"
   ]
  },
  {
   "cell_type": "markdown",
   "metadata": {},
   "source": [
    "We can also check the data types of each column- we can see there are a mix of numeric (int32, int64, float64) and string (O = object) data types, as well as some geometry data (geopandas.array.GeometryDtype)."
   ]
  },
  {
   "cell_type": "code",
   "execution_count": null,
   "metadata": {},
   "outputs": [],
   "source": [
    "list(pluto.dtypes)"
   ]
  },
  {
   "cell_type": "markdown",
   "metadata": {},
   "source": [
    "## Exploring a categorical column\n"
   ]
  },
  {
   "cell_type": "code",
   "execution_count": null,
   "metadata": {},
   "outputs": [],
   "source": [
    "# a great way to get a sense of a field is to look at\n",
    "# the frequency of values in a categorical field.\n",
    "# here, we look at the LandUse field, which describes the\n",
    "# type of land use for each property in the dataset.\n",
    "pluto.LandUse.value_counts()"
   ]
  },
  {
   "cell_type": "markdown",
   "metadata": {},
   "source": [
    "🧐 What do those numbers mean? Let's look at the [data dictionary](https://s-media.nyc.gov/agencies/dcp/assets/files/pdf/data-tools/bytes/meta_mappluto.pdf)\n"
   ]
  },
  {
   "cell_type": "code",
   "execution_count": null,
   "metadata": {},
   "outputs": [],
   "source": [
    "# now we can remap the numbers into something more meaningful\n",
    "\n",
    "land_use_codes = {\n",
    "    \"01\": \"One & Two Family Buildings\",\n",
    "    \"02\": \"Multi-Family Walk-Up Buildings\",\n",
    "    \"03\": \"Multi-Family Elevator Buildings\",\n",
    "    \"04\": \"Mixed Residential & Commercial Buildings\",\n",
    "    \"05\": \"Commercial & Office Buildings\",\n",
    "    \"06\": \"Industrial & Manufacturing\",\n",
    "    \"07\": \"Transportation & Utility\",\n",
    "    \"08\": \"Public Facilities & Institutions\",\n",
    "    \"09\": \"Open Space & Outdoor Recreation\",\n",
    "    \"10\": \"Parking Facilities\",\n",
    "    \"11\": \"Vacant Land\",\n",
    "}"
   ]
  },
  {
   "cell_type": "markdown",
   "metadata": {},
   "source": [
    "We can \"map\" the Land Use codes to more descriptive names. \n",
    "the `map()` function will replace instances of the \"key\" with the corresponding \"value\" in the dictionary."
   ]
  },
  {
   "cell_type": "code",
   "execution_count": null,
   "metadata": {},
   "outputs": [],
   "source": [
    "pluto[\"LandUse\"] = pluto.LandUse.map(land_use_codes)"
   ]
  },
  {
   "cell_type": "code",
   "execution_count": null,
   "metadata": {},
   "outputs": [],
   "source": [
    "# now when we perform operations on the LandUse field,\n",
    "# we can use the more meaningful names.\n",
    "# let's look at the frequency of values in the LandUse field again\n",
    "pluto.LandUse.value_counts()"
   ]
  },
  {
   "cell_type": "markdown",
   "metadata": {
    "vscode": {
     "languageId": "markdown"
    }
   },
   "source": [
    "⚠️ Caution! So far we have been counting the number of rows, but not saying anything about the area of each land use type. To do so, we can sum across rows of the same type. We can use the `groupby()` function to group the data by a categorical column type and then sum the values in another column (in this case, the lot area) the area for each type.\n"
   ]
  },
  {
   "cell_type": "markdown",
   "metadata": {},
   "source": [
    "## Grouping by a categorical column\n"
   ]
  },
  {
   "cell_type": "markdown",
   "metadata": {},
   "source": [
    "Here, we are _grouping_ the data by the `landuse` column and then _summing_ the values in the `lotarea` column for each group. The result is a new DataFrame that contains the total lot area for each land use type. We can sum or manipulate multiple columns at a time, and can chain together multiple operations as you can see below.\n"
   ]
  },
  {
   "cell_type": "code",
   "execution_count": null,
   "metadata": {},
   "outputs": [],
   "source": [
    "pluto.groupby(\"LandUse\").LotArea.sum().sort_values(ascending=False)"
   ]
  },
  {
   "cell_type": "code",
   "execution_count": null,
   "metadata": {},
   "outputs": [],
   "source": [
    "# more complex grouping\n",
    "# We can also use the `agg()` function to apply multiple aggregation functions to different columns at once.\n",
    "# For example, we can calculate the total lot area and the average building area for each land use type:\n",
    "landuse_summary = (\n",
    "    pluto.groupby(\"LandUse\")\n",
    "    .agg({\"LotArea\": \"sum\", \"BldgArea\": \"mean\"})\n",
    "    .reset_index()\n",
    "    .rename(\n",
    "        columns={\"LotArea\": \"Total Lot Area\", \"BldgArea\": \"Average Building Area\"},\n",
    "    )\n",
    ")\n",
    "landuse_summary"
   ]
  },
  {
   "cell_type": "markdown",
   "metadata": {},
   "source": [
    "Now let's plot the total lot area for each land use type."
   ]
  },
  {
   "cell_type": "code",
   "execution_count": null,
   "metadata": {},
   "outputs": [],
   "source": [
    "# there are many ways to visualize this data, and levels to refining the graphic style.\n",
    "# This is the simplest possible example, using matplotlib to create a bar chart\n",
    "pluto.groupby(\"LandUse\").LotArea.sum().sort_values(ascending=False).plot.bar()\n",
    "plt.title(\"Total lot area by land use type\")"
   ]
  },
  {
   "cell_type": "code",
   "execution_count": null,
   "metadata": {},
   "outputs": [],
   "source": [
    "# now the same but for building area - note this is total building area, not average\n",
    "pluto.groupby(\"LandUse\").BldgArea.sum().sort_values(ascending=False).plot.bar()\n",
    "plt.title(\"Total building area by land use type\")"
   ]
  },
  {
   "cell_type": "markdown",
   "metadata": {},
   "source": [
    "Below is a more complicated example where we can plot two variables against each other to compare.\n",
    "\n",
    "Note how we are manipulating a \"figure\" (`fig`) and \"axes\" (`ax`) object to create a more complex plot. This is a common pattern in data visualization libraries like Matplotlib and Seaborn, where you can create a figure and then add multiple axes to it, each with its own plot. You can see several invocations of `ax` where we set various properties. \n",
    "\n",
    "We also use two copies of our pluto dataset as inputs - note how each copy is aggregated over a different variable. "
   ]
  },
  {
   "cell_type": "code",
   "execution_count": null,
   "metadata": {},
   "outputs": [],
   "source": [
    "# plot both lot and building area on the same plot with a secondary y-axis\n",
    "fig, ax = plt.subplots()\n",
    "by_lot_area = pluto.groupby(\"LandUse\").LotArea.sum().sort_values(ascending=False)\n",
    "\n",
    "by_lot_area.plot.bar(ax=ax, color=\"orange\")\n",
    "\n",
    "# get order to apply below\n",
    "order = {v: i for i, v in enumerate(by_lot_area.index)}\n",
    "\n",
    "ax.set_ylabel(\"Lot Area\")\n",
    "ax.set_xlabel(\"Land Use Type\")\n",
    "\n",
    "ax2 = ax.twinx()\n",
    "pluto.groupby(\"LandUse\").BldgArea.sum().reindex(by_lot_area.index).plot.bar(\n",
    "    ax=ax2, edgecolor=\"black\", color=\"none\"\n",
    ")\n",
    "ax2.set_ylabel(\"Building Area\")\n",
    "\n",
    "plt.title(\"Total lot and building area by land use type\")\n",
    "\n",
    "# add legends\n",
    "ax.legend([\"Lot Area\"], loc=\"upper left\")\n",
    "ax2.legend([\"Building Area\"], loc=\"upper right\")"
   ]
  },
  {
   "cell_type": "markdown",
   "metadata": {},
   "source": [
    "## numeric column\n"
   ]
  },
  {
   "cell_type": "markdown",
   "metadata": {},
   "source": [
    "We can use the `describe()` function to get a summary of the numeric columns in the dataset."
   ]
  },
  {
   "cell_type": "code",
   "execution_count": null,
   "metadata": {},
   "outputs": [],
   "source": [
    "pluto[\"NumFloors\"].describe()"
   ]
  },
  {
   "cell_type": "code",
   "execution_count": null,
   "metadata": {},
   "outputs": [],
   "source": [
    "# We can see that the average number of floors is 2.35, but the maximum is 104! and that the majority of buildings have 1-3 floors.\n",
    "# Let's visualize the distribution of the number of floors using a histogram\n",
    "plt.figure(figsize=(10, 6))\n",
    "pluto[\"NumFloors\"].hist(bins=30, edgecolor=\"black\")\n",
    "plt.title(\"Distribution of Number of Floors\")\n",
    "plt.xlabel(\"Number of Floors\")\n",
    "plt.ylabel(\"Frequency\")\n",
    "plt.xlim(0, 20)  # limit x-axis to 20 for better visibility\n",
    "plt.xticks(range(0, 21))  # set x-ticks to integers from 0 to 20\n",
    "plt.grid(axis=\"y\", linestyle=\"--\", alpha=0.7)\n",
    "plt.show()"
   ]
  },
  {
   "cell_type": "markdown",
   "metadata": {},
   "source": [
    "### Interactive plotting"
   ]
  },
  {
   "cell_type": "markdown",
   "metadata": {},
   "source": [
    "We can use the `pygwalker` library to create an interactive visualization of the data. Especially as we are becoming familiar with the dataset, this can be a useful way to explore the data and see how different variables relate to each other."
   ]
  },
  {
   "cell_type": "code",
   "execution_count": null,
   "metadata": {},
   "outputs": [],
   "source": [
    "# pygwalker doesn't suppert geospatial data directly, so we need to drop the geometry column.\n",
    "# Be sure to keep a copy of the original data, we'll need it later!\n",
    "pluto_non_spatial = pluto.drop(columns=[\"geometry\"])\n",
    "\n",
    "# Invoke pygwalker, begin exploring the data interactively\n",
    "pyg.walk(pluto_non_spatial)"
   ]
  },
  {
   "cell_type": "code",
   "execution_count": null,
   "metadata": {},
   "outputs": [],
   "source": []
  },
  {
   "cell_type": "markdown",
   "metadata": {},
   "source": [
    "> ## Your turn:\n",
    "> - Take a few minutes to explore the dataset on your own.\n",
    "> - Try creating graphs that show the relationship between different variables.\n",
    "> - Let's discuss what you find or what you're exploring. "
   ]
  },
  {
   "cell_type": "markdown",
   "metadata": {},
   "source": [
    "# Mapping\n"
   ]
  },
  {
   "cell_type": "markdown",
   "metadata": {},
   "source": [
    "## Creating a static map\n"
   ]
  },
  {
   "cell_type": "code",
   "execution_count": null,
   "metadata": {},
   "outputs": [],
   "source": [
    "# In this example, we are using matplotlib to map our pluto data.\n",
    "# Under the hood, matplotlib is drawing each individual polygon (>800,000),\n",
    "# which is resource intensive and hard to discern on a map! This is a good\n",
    "# place to start, but we'll soon move on to more advanced mapping techniques.\n",
    "\n",
    "\n",
    "pluto.plot(figsize=(10, 10)).set_axis_off()\n",
    "plt.title(\"NYC MapPLUTO\")"
   ]
  },
  {
   "cell_type": "code",
   "execution_count": null,
   "metadata": {},
   "outputs": [],
   "source": [
    "cmap = {\n",
    "    \"One & Two Family Buildings\": \"#ffff00\",\n",
    "    \"Multi-Family Walk-Up Buildings\": \"#fffb00\",\n",
    "    \"Multi-Family Elevator Buildings\": \"#ffc800\",\n",
    "    \"Mixed Residential & Commercial Buildings\": \"#ff4000\",\n",
    "    \"Commercial & Office Buildings\": \"#ff0000\",\n",
    "    \"Industrial & Manufacturing\": \"#7700ff\",\n",
    "    \"Transportation & Utility\": \"#808080\",\n",
    "    \"Public Facilities & Institutions\": \"#001580\",\n",
    "    \"Open Space & Outdoor Recreation\": \"#219F21\",\n",
    "    \"Parking Facilities\": \"#A6A6AB\",\n",
    "    \"Vacant Land\": \"#222222\",\n",
    "    \"Unknown\": \"#000000\",\n",
    "}"
   ]
  },
  {
   "cell_type": "code",
   "execution_count": null,
   "metadata": {},
   "outputs": [],
   "source": [
    "pluto.fillna({\"LandUse\": \"Unknown\"}, inplace=True)"
   ]
  },
  {
   "cell_type": "code",
   "execution_count": null,
   "metadata": {},
   "outputs": [],
   "source": [
    "pluto.LandUse.unique()"
   ]
  },
  {
   "cell_type": "code",
   "execution_count": null,
   "metadata": {},
   "outputs": [],
   "source": [
    "# here we make a new column called \"color\" that maps the LandUse values to colors\n",
    "pluto[\"color\"] = pluto[\"LandUse\"].map(cmap)"
   ]
  },
  {
   "cell_type": "code",
   "execution_count": null,
   "metadata": {},
   "outputs": [],
   "source": [
    "pluto[\"color\"].unique()"
   ]
  },
  {
   "cell_type": "code",
   "execution_count": null,
   "metadata": {},
   "outputs": [],
   "source": [
    "ax = pluto.plot(\n",
    "    color=pluto[\"color\"],\n",
    "    figsize=(10, 10),\n",
    "    legend=True,\n",
    ").set_axis_off()\n",
    "plt.title(\"NYC MapPLUTO\")\n",
    "\n",
    "\n",
    "# populate legend items based on dict from above\n",
    "legend_colors = [\n",
    "    Line2D([0], [0], marker=\"o\", color=\"w\", markerfacecolor=c, markersize=10)\n",
    "    for c in cmap.values()\n",
    "]\n",
    "labels = cmap.keys()\n",
    "plt.legend(legend_colors, labels, loc=\"upper left\")"
   ]
  },
  {
   "cell_type": "markdown",
   "metadata": {},
   "source": [
    "## Your turn:\n",
    "\n",
    "- map a numeric column using a continuous colormap for Queens. See here for a list and discussion of colormaps: https://matplotlib.org/stable/tutorials/colors/colormaps.html\n",
    "- What patterns emerge?\n"
   ]
  },
  {
   "cell_type": "code",
   "execution_count": null,
   "metadata": {},
   "outputs": [],
   "source": [
    "pluto.LotArea.plot.hist(bins=100, log=True)"
   ]
  },
  {
   "cell_type": "markdown",
   "metadata": {},
   "source": [
    "# prep for interactive mapping\n"
   ]
  },
  {
   "cell_type": "code",
   "execution_count": null,
   "metadata": {},
   "outputs": [],
   "source": [
    "pluto_wgs = pluto.to_crs(\"epsg:4326\")"
   ]
  },
  {
   "cell_type": "markdown",
   "metadata": {},
   "source": [
    "## visualize a categorical variable\n"
   ]
  },
  {
   "cell_type": "code",
   "execution_count": null,
   "metadata": {},
   "outputs": [],
   "source": [
    "cmap_rgb = {k: list(int(v[i : i + 2], 16) for i in (1, 3, 5)) for k, v in cmap.items()}"
   ]
  },
  {
   "cell_type": "code",
   "execution_count": null,
   "metadata": {},
   "outputs": [],
   "source": [
    "cmap_rgb"
   ]
  },
  {
   "cell_type": "code",
   "execution_count": null,
   "metadata": {},
   "outputs": [],
   "source": [
    "len(pluto_wgs[pluto_wgs[\"LandUse\"].isna()])"
   ]
  },
  {
   "cell_type": "code",
   "execution_count": null,
   "metadata": {},
   "outputs": [],
   "source": [
    "pluto.fillna({\"LandUse\": \"Unknown\"}, inplace=True)"
   ]
  },
  {
   "cell_type": "markdown",
   "metadata": {},
   "source": [
    "## now, we can plot the data using lonboard to create an interactive map\n"
   ]
  },
  {
   "cell_type": "code",
   "execution_count": null,
   "metadata": {},
   "outputs": [],
   "source": [
    "df = pluto_wgs[[\"LandUse\", \"geometry\"]].copy()\n",
    "df[\"LandUse\"] = df[\"LandUse\"].astype(\"category\")\n",
    "\n",
    "layer = PolygonLayer.from_geopandas(\n",
    "    df[[\"LandUse\", \"geometry\"]],\n",
    "    get_fill_color=apply_categorical_cmap(\n",
    "        df[\"LandUse\"],\n",
    "        cmap=cmap_rgb,\n",
    "    ),\n",
    ")\n",
    "m = Map(layer)\n",
    "m"
   ]
  },
  {
   "cell_type": "markdown",
   "metadata": {},
   "source": [
    "## visualize a continuous variable\n"
   ]
  },
  {
   "cell_type": "code",
   "execution_count": null,
   "metadata": {},
   "outputs": [],
   "source": [
    "df = pluto_wgs[[\"NumFloors\", \"geometry\"]]\n",
    "\n",
    "normalizer = LogNorm(1, df.NumFloors.max(), clip=True)\n",
    "normalized_floors = normalizer(df.NumFloors)\n",
    "\n",
    "layer = PolygonLayer.from_geopandas(\n",
    "    df[[\"NumFloors\", \"geometry\"]],\n",
    "    get_fill_color=apply_continuous_cmap(normalized_floors, cmap=PuRd_9),\n",
    ")\n",
    "m = Map(layer)\n",
    "m"
   ]
  },
  {
   "cell_type": "code",
   "execution_count": null,
   "metadata": {},
   "outputs": [],
   "source": [
    "df = pluto_wgs[[\"NumFloors\", \"geometry\"]]\n",
    "\n",
    "normalizer = LogNorm(1, df.NumFloors.max(), clip=True)\n",
    "normalized_floors = normalizer(df.NumFloors)\n",
    "\n",
    "\n",
    "layer = PolygonLayer.from_geopandas(\n",
    "    df[[\"NumFloors\", \"geometry\"]],\n",
    "    get_fill_color=apply_continuous_cmap(normalized_floors, cmap=PuRd_9),\n",
    "    extruded=True,\n",
    "    get_elevation=pluto_wgs[\"NumFloors\"] * 14,\n",
    ")\n",
    "m = Map(\n",
    "    layer, view_state={\"longitude\": -73.97, \"latitude\": 40.73, \"zoom\": 10, \"pitch\": 45}\n",
    ")\n",
    "m"
   ]
  },
  {
   "cell_type": "code",
   "execution_count": null,
   "metadata": {},
   "outputs": [],
   "source": [
    "df = pluto_wgs[pluto_wgs.YearBuilt > 2010][[\"NumFloors\", \"geometry\"]].copy()\n",
    "\n",
    "normalizer = LogNorm(1, df.NumFloors.max(), clip=True)\n",
    "normalized_floors = normalizer(df.NumFloors)\n",
    "\n",
    "layer = PolygonLayer.from_geopandas(\n",
    "    df[[\"NumFloors\", \"geometry\"]],\n",
    "    get_fill_color=apply_continuous_cmap(normalized_floors, cmap=PuRd_9),\n",
    "    extruded=True,\n",
    "    get_elevation=df[\"NumFloors\"] * 14,\n",
    ")\n",
    "m = Map(layer)\n",
    "m"
   ]
  },
  {
   "cell_type": "code",
   "execution_count": null,
   "metadata": {},
   "outputs": [],
   "source": [
    "pluto_wgs.YearBuilt.nunique()"
   ]
  },
  {
   "cell_type": "code",
   "execution_count": null,
   "metadata": {},
   "outputs": [],
   "source": [
    "def categorize_buildings(r):\n",
    "    if r.YearBuilt < 1900:\n",
    "        return \"Pre-1900\"\n",
    "    elif r.YearBuilt < 1950:\n",
    "        return \"1900-1950\"\n",
    "    elif r.YearBuilt < 2000:\n",
    "        return \"1950-2000\"\n",
    "    else:\n",
    "        return \"Post-2000\""
   ]
  },
  {
   "cell_type": "code",
   "execution_count": null,
   "metadata": {},
   "outputs": [],
   "source": [
    "pluto_wgs[\"year_category\"] = pluto_wgs.apply(categorize_buildings, axis=1)"
   ]
  },
  {
   "cell_type": "code",
   "execution_count": null,
   "metadata": {},
   "outputs": [],
   "source": [
    "pluto_wgs.year_category.value_counts()"
   ]
  },
  {
   "cell_type": "code",
   "execution_count": null,
   "metadata": {},
   "outputs": [],
   "source": [
    "year_built_ma = {\n",
    "    \"Pre-1900\": \"[255,0,0]\",\n",
    "    \"1900-1950\": \"#00ff00\",\n",
    "    \"1950-2000\": \"#0000ff\",\n",
    "    \"Post-2000\": \"#ff00ff\",\n",
    "}"
   ]
  },
  {
   "cell_type": "code",
   "execution_count": null,
   "metadata": {},
   "outputs": [],
   "source": [
    "df = pluto_wgs[[\"year_category\", \"geometry\"]]\n",
    "\n",
    "layer = PolygonLayer.from_geopandas(\n",
    "    df[[\"year_category\", \"geometry\"]],\n",
    "    get_fill_color=apply_categorical_cmap(df[\"year_category\"], cmap=cmap_rgb),\n",
    ")\n",
    "m = Map(layer)\n",
    "m"
   ]
  },
  {
   "cell_type": "markdown",
   "metadata": {},
   "source": [
    "To read more about `lonboard` and mapping in 3d, see here for some tips: https://developmentseed.org/lonboard/latest/examples/overture-maps/#imports"
   ]
  }
 ],
 "metadata": {
  "kernelspec": {
   "display_name": "cdp_mapping_system",
   "language": "python",
   "name": "python3"
  },
  "language_info": {
   "codemirror_mode": {
    "name": "ipython",
    "version": 3
   },
   "file_extension": ".py",
   "mimetype": "text/x-python",
   "name": "python",
   "nbconvert_exporter": "python",
   "pygments_lexer": "ipython3",
   "version": "3.12.11"
  }
 },
 "nbformat": 4,
 "nbformat_minor": 2
}
